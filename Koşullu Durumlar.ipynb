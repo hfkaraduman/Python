{
 "cells": [
  {
   "cell_type": "markdown",
   "metadata": {},
   "source": [
    "if()Durumu"
   ]
  },
  {
   "cell_type": "code",
   "execution_count": 3,
   "metadata": {},
   "outputs": [
    {
     "name": "stdin",
     "output_type": "stream",
     "text": [
      "Yaşınızı giriniz: 17\n"
     ]
    },
    {
     "name": "stdout",
     "output_type": "stream",
     "text": [
      "Mekana Giremezsiniz\n"
     ]
    }
   ],
   "source": [
    "yas=int(input(\"Yaşınızı giriniz:\"))\n",
    "if yas<18:\n",
    "    print(\"Mekana Giremezsiniz\")"
   ]
  },
  {
   "cell_type": "markdown",
   "metadata": {},
   "source": [
    "else() Durumu\n",
    "\n",
    "if()durumunun çalışmadıgı durumlarda else() durumu çalışır"
   ]
  },
  {
   "cell_type": "code",
   "execution_count": 5,
   "metadata": {},
   "outputs": [
    {
     "name": "stdin",
     "output_type": "stream",
     "text": [
      "Yaşınızı giriniz: 19\n"
     ]
    },
    {
     "name": "stdout",
     "output_type": "stream",
     "text": [
      "Hoşgeldiniz\n"
     ]
    }
   ],
   "source": [
    "yas=int(input(\"Yaşınızı giriniz:\"))\n",
    "if yas<18:\n",
    "    print(\"Mekana Giremezsiniz\")\n",
    "else :\n",
    "    print(\"Hoşgeldiniz\")"
   ]
  },
  {
   "cell_type": "code",
   "execution_count": 9,
   "metadata": {},
   "outputs": [
    {
     "name": "stdin",
     "output_type": "stream",
     "text": [
      "İşlem giriniz: 4\n"
     ]
    },
    {
     "name": "stdout",
     "output_type": "stream",
     "text": [
      "İşleminiz tanımlanmadı!\n"
     ]
    }
   ],
   "source": [
    "işlem=input(\"İşlem giriniz:\")\n",
    "if işlem==\"1\":\n",
    "    print(\"İşlem 1 seçildi.\")\n",
    "elif işlem==\"2\":\n",
    "    print(\"İşlem 2 seçildi.\")\n",
    "elif işlem==\"3\":\n",
    "    print(\"İşlem 3 seçildi.\")\n",
    "else :\n",
    "    print(\"İşleminiz tanımlanmadı!\")"
   ]
  },
  {
   "cell_type": "code",
   "execution_count": null,
   "metadata": {},
   "outputs": [],
   "source": []
  }
 ],
 "metadata": {
  "kernelspec": {
   "display_name": "Python 3",
   "language": "python",
   "name": "python3"
  },
  "language_info": {
   "codemirror_mode": {
    "name": "ipython",
    "version": 3
   },
   "file_extension": ".py",
   "mimetype": "text/x-python",
   "name": "python",
   "nbconvert_exporter": "python",
   "pygments_lexer": "ipython3",
   "version": "3.7.4"
  }
 },
 "nbformat": 4,
 "nbformat_minor": 4
}
