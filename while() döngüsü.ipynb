{
 "cells": [
  {
   "cell_type": "code",
   "execution_count": 3,
   "metadata": {},
   "outputs": [
    {
     "name": "stdout",
     "output_type": "stream",
     "text": [
      "i'nin degeri: 0\n",
      "i'nin degeri: 1\n",
      "i'nin degeri: 2\n",
      "i'nin degeri: 3\n",
      "i'nin degeri: 4\n",
      "i'nin degeri: 5\n",
      "i'nin degeri: 6\n",
      "i'nin degeri: 7\n",
      "i'nin degeri: 8\n",
      "i'nin degeri: 9\n"
     ]
    }
   ],
   "source": [
    "i=0\n",
    "while(i<10):\n",
    "    print(\"i'nin degeri:\",i)\n",
    "    i+=1"
   ]
  },
  {
   "cell_type": "code",
   "execution_count": 4,
   "metadata": {},
   "outputs": [
    {
     "data": {
      "text/plain": [
       "5"
      ]
     },
     "execution_count": 4,
     "metadata": {},
     "output_type": "execute_result"
    }
   ],
   "source": [
    "liste=[1,2,3,4,5]\n",
    "len(liste)"
   ]
  },
  {
   "cell_type": "code",
   "execution_count": 6,
   "metadata": {},
   "outputs": [
    {
     "name": "stdout",
     "output_type": "stream",
     "text": [
      "index 0 = 1\n",
      "index 1 = 2\n",
      "index 2 = 3\n",
      "index 3 = 4\n",
      "index 4 = 5\n"
     ]
    }
   ],
   "source": [
    "index=0\n",
    "while(index<len(liste)):\n",
    "    print(\"index\",index,\"=\",liste[index])\n",
    "    index+=1"
   ]
  },
  {
   "cell_type": "code",
   "execution_count": null,
   "metadata": {},
   "outputs": [],
   "source": []
  }
 ],
 "metadata": {
  "kernelspec": {
   "display_name": "Python 3",
   "language": "python",
   "name": "python3"
  },
  "language_info": {
   "codemirror_mode": {
    "name": "ipython",
    "version": 3
   },
   "file_extension": ".py",
   "mimetype": "text/x-python",
   "name": "python",
   "nbconvert_exporter": "python",
   "pygments_lexer": "ipython3",
   "version": "3.7.4"
  }
 },
 "nbformat": 4,
 "nbformat_minor": 4
}
