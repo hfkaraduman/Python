{
 "cells": [
  {
   "cell_type": "markdown",
   "metadata": {},
   "source": [
    "FONKSİYONLARI DÖNMEK VE PARAMETRE OLARAK GÖNDERMEL"
   ]
  },
  {
   "cell_type": "code",
   "execution_count": 17,
   "metadata": {},
   "outputs": [],
   "source": [
    "def anafonksiyon(işlem_adı):\n",
    "    \n",
    "    def toplama(*args):\n",
    "        toplam=0\n",
    "        for i in args:\n",
    "            toplam+=i\n",
    "        return toplam\n",
    "    def çarpım(*args):\n",
    "        çarpım=1\n",
    "        for i in args:\n",
    "            çarpım*=i\n",
    "        return çarpım\n",
    "    if işlem_adı==\"toplama\":\n",
    "        return toplama\n",
    "    else:\n",
    "        return çarpım\n",
    "    "
   ]
  },
  {
   "cell_type": "code",
   "execution_count": 2,
   "metadata": {},
   "outputs": [],
   "source": [
    "fonk=anafonksiyon(\"toplama\")"
   ]
  },
  {
   "cell_type": "code",
   "execution_count": 3,
   "metadata": {},
   "outputs": [
    {
     "data": {
      "text/plain": [
       "<function __main__.anafonksiyon.<locals>.toplama(*args)>"
      ]
     },
     "execution_count": 3,
     "metadata": {},
     "output_type": "execute_result"
    }
   ],
   "source": [
    "fonk"
   ]
  },
  {
   "cell_type": "code",
   "execution_count": 4,
   "metadata": {},
   "outputs": [
    {
     "data": {
      "text/plain": [
       "21"
      ]
     },
     "execution_count": 4,
     "metadata": {},
     "output_type": "execute_result"
    }
   ],
   "source": [
    "fonk(1,2,3,4,5,6)"
   ]
  },
  {
   "cell_type": "code",
   "execution_count": 19,
   "metadata": {},
   "outputs": [],
   "source": [
    "fonk2=anafonksiyon(\"çarpma\")"
   ]
  },
  {
   "cell_type": "code",
   "execution_count": 20,
   "metadata": {},
   "outputs": [
    {
     "data": {
      "text/plain": [
       "120"
      ]
     },
     "execution_count": 20,
     "metadata": {},
     "output_type": "execute_result"
    }
   ],
   "source": [
    "fonk2(1,2,3,4,5)"
   ]
  },
  {
   "cell_type": "code",
   "execution_count": 21,
   "metadata": {},
   "outputs": [],
   "source": [
    "def toplama(a,b):\n",
    "    return a+b\n",
    "def çıkarma(a,b):\n",
    "    return a-b\n",
    "def çarpma(a,b):\n",
    "    return a*b\n",
    "def bölme(a,b):\n",
    "    return a/b"
   ]
  },
  {
   "cell_type": "code",
   "execution_count": 24,
   "metadata": {},
   "outputs": [],
   "source": [
    "def anafonksiyon(func1,func2,func3,func4,işlem_adı):\n",
    "    if işlem_adı==\"toplama\":\n",
    "        print(func1(3,4))\n",
    "    elif işlem_adı==\"çıkarma\":\n",
    "        print(func2(3,-5))\n",
    "    elif işlem_adı==\"çarpma\":\n",
    "        print(func3(3,42))\n",
    "    elif işlem_adı==\"bölme\":\n",
    "        print(func4(12,4))\n",
    "    else:\n",
    "        print(\"Geçersiz işlem...\")\n",
    "        "
   ]
  },
  {
   "cell_type": "code",
   "execution_count": 25,
   "metadata": {},
   "outputs": [
    {
     "name": "stdout",
     "output_type": "stream",
     "text": [
      "126\n"
     ]
    }
   ],
   "source": [
    "anafonksiyon(toplama,çıkarma,çarpma,bölme,\"çarpma\")"
   ]
  },
  {
   "cell_type": "code",
   "execution_count": 26,
   "metadata": {},
   "outputs": [
    {
     "name": "stdout",
     "output_type": "stream",
     "text": [
      "7\n"
     ]
    }
   ],
   "source": [
    "anafonksiyon(toplama,çıkarma,çarpma,bölme,\"toplama\")"
   ]
  },
  {
   "cell_type": "code",
   "execution_count": 27,
   "metadata": {},
   "outputs": [
    {
     "name": "stdout",
     "output_type": "stream",
     "text": [
      "3.0\n"
     ]
    }
   ],
   "source": [
    "anafonksiyon(toplama,çıkarma,çarpma,bölme,\"bölme\")"
   ]
  },
  {
   "cell_type": "code",
   "execution_count": 28,
   "metadata": {},
   "outputs": [
    {
     "name": "stdout",
     "output_type": "stream",
     "text": [
      "8\n"
     ]
    }
   ],
   "source": [
    "anafonksiyon(toplama,çıkarma,çarpma,bölme,\"çıkarma\")"
   ]
  },
  {
   "cell_type": "code",
   "execution_count": null,
   "metadata": {},
   "outputs": [],
   "source": []
  }
 ],
 "metadata": {
  "kernelspec": {
   "display_name": "Python 3",
   "language": "python",
   "name": "python3"
  },
  "language_info": {
   "codemirror_mode": {
    "name": "ipython",
    "version": 3
   },
   "file_extension": ".py",
   "mimetype": "text/x-python",
   "name": "python",
   "nbconvert_exporter": "python",
   "pygments_lexer": "ipython3",
   "version": "3.8.3"
  }
 },
 "nbformat": 4,
 "nbformat_minor": 4
}
