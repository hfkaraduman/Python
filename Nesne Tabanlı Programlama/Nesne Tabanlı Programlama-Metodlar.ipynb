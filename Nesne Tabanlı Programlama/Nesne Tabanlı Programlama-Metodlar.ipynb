{
 "cells": [
  {
   "cell_type": "code",
   "execution_count": 7,
   "metadata": {},
   "outputs": [],
   "source": [
    "class Yazılımcı():\n",
    "    \n",
    "    def __init__(self,isim,soyisim,numara,maas,diller):\n",
    "        self.isim=isim\n",
    "        self.soyisim=soyisim\n",
    "        self.numara=numara\n",
    "        self.maas=maas\n",
    "        self.diller=diller\n",
    "    def bilgilerigöster(self):\n",
    "        print(\"\"\"\n",
    "        Yazılımcı objesinin özellikleri\n",
    "        İsim:{}\n",
    "        Soyisim:{}\n",
    "        Numara:{}\n",
    "        Maaş:{}\n",
    "        Bildiği Diller:{}\n",
    "        \"\"\".format(self.isim,self.soyisim,self.numara,self.maas,self.diller))\n",
    "    def zam_yap(self,zam_miktarı):\n",
    "        print(\"Zam Yapılıyor\")\n",
    "        self.maas+=zam_miktarı\n",
    "    def dil_ekle(self,yeni_dil):\n",
    "        print(\"Dil Ekleniyor...\")\n",
    "        self.diller.append(yeni_dil)"
   ]
  },
  {
   "cell_type": "code",
   "execution_count": 8,
   "metadata": {},
   "outputs": [],
   "source": [
    "yazılımcı=Yazılımcı(\"Hasan\",\"Karaduman\",322347,5500,[\"Python\",\"C\",\"C++\",\"Java\"])"
   ]
  },
  {
   "cell_type": "code",
   "execution_count": 9,
   "metadata": {},
   "outputs": [
    {
     "name": "stdout",
     "output_type": "stream",
     "text": [
      "\n",
      "        Yazılımcı objesinin özellikleri\n",
      "        İsim:Hasan\n",
      "        Soyisim:Karaduman\n",
      "        Numara:322347\n",
      "        Maaş:5500\n",
      "        Bildiği Diller:['Python', 'C', 'C++', 'Java']\n",
      "        \n"
     ]
    }
   ],
   "source": [
    "yazılımcı.bilgilerigöster()"
   ]
  },
  {
   "cell_type": "code",
   "execution_count": 10,
   "metadata": {},
   "outputs": [
    {
     "name": "stdout",
     "output_type": "stream",
     "text": [
      "Dil Ekleniyor...\n"
     ]
    }
   ],
   "source": [
    "yazılımcı.dil_ekle(\"GoLang\")"
   ]
  },
  {
   "cell_type": "code",
   "execution_count": 11,
   "metadata": {},
   "outputs": [
    {
     "name": "stdout",
     "output_type": "stream",
     "text": [
      "\n",
      "        Yazılımcı objesinin özellikleri\n",
      "        İsim:Hasan\n",
      "        Soyisim:Karaduman\n",
      "        Numara:322347\n",
      "        Maaş:5500\n",
      "        Bildiği Diller:['Python', 'C', 'C++', 'Java', 'GoLang']\n",
      "        \n"
     ]
    }
   ],
   "source": [
    "yazılımcı.bilgilerigöster()"
   ]
  },
  {
   "cell_type": "code",
   "execution_count": 12,
   "metadata": {},
   "outputs": [
    {
     "name": "stdout",
     "output_type": "stream",
     "text": [
      "Zam Yapılıyor\n"
     ]
    }
   ],
   "source": [
    "yazılımcı.zam_yap(500)"
   ]
  },
  {
   "cell_type": "code",
   "execution_count": 13,
   "metadata": {},
   "outputs": [
    {
     "name": "stdout",
     "output_type": "stream",
     "text": [
      "\n",
      "        Yazılımcı objesinin özellikleri\n",
      "        İsim:Hasan\n",
      "        Soyisim:Karaduman\n",
      "        Numara:322347\n",
      "        Maaş:6000\n",
      "        Bildiği Diller:['Python', 'C', 'C++', 'Java', 'GoLang']\n",
      "        \n"
     ]
    }
   ],
   "source": [
    "yazılımcı.bilgilerigöster()"
   ]
  },
  {
   "cell_type": "code",
   "execution_count": null,
   "metadata": {},
   "outputs": [],
   "source": []
  }
 ],
 "metadata": {
  "kernelspec": {
   "display_name": "Python 3",
   "language": "python",
   "name": "python3"
  },
  "language_info": {
   "codemirror_mode": {
    "name": "ipython",
    "version": 3
   },
   "file_extension": ".py",
   "mimetype": "text/x-python",
   "name": "python",
   "nbconvert_exporter": "python",
   "pygments_lexer": "ipython3",
   "version": "3.7.4"
  }
 },
 "nbformat": 4,
 "nbformat_minor": 2
}
